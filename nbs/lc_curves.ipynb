{
 "cells": [
  {
   "cell_type": "markdown",
   "metadata": {},
   "source": [
    "### Datasets\n",
    "    - gdsc --> gg\n",
    "    - ctrp --> cc\n",
    "### Models\n",
    "    - lgb\n",
    "    - nn0\n",
    "    - nn1\n",
    "    \n",
    "### Runs:\n",
    "`../lc.out.summit.July2020/exp1_scores`<br>\n",
    "    - summit run (completed runs for very large sizes: 600K>)<br>\n",
    "    - haven't calculated MCC<br>\n",
    "    \n",
    "`../lc.out.nci60.split0/`"
   ]
  },
  {
   "cell_type": "code",
   "execution_count": 2,
   "metadata": {},
   "outputs": [
    {
     "name": "stdout",
     "output_type": "stream",
     "text": [
      "The autoreload extension is already loaded. To reload it, use:\n",
      "  %reload_ext autoreload\n",
      "Current path: /vol/ml/apartin/projects/covid-19/docking-learning-curves/nbs\n"
     ]
    }
   ],
   "source": [
    "%load_ext autoreload\n",
    "%autoreload 2\n",
    "%matplotlib inline\n",
    "\n",
    "from load_modules import *\n",
    "%matplotlib inline\n",
    "fpath = Path(os.getcwd())\n",
    "print('Current path:', fpath)\n",
    "\n",
    "outpath = fpath/'figs'\n",
    "os.makedirs(outpath, exist_ok=True)"
   ]
  },
  {
   "cell_type": "code",
   "execution_count": null,
   "metadata": {},
   "outputs": [],
   "source": []
  },
  {
   "cell_type": "markdown",
   "metadata": {},
   "source": [
    "## Path to data"
   ]
  },
  {
   "cell_type": "code",
   "execution_count": 6,
   "metadata": {},
   "outputs": [
    {
     "name": "stdout",
     "output_type": "stream",
     "text": [
      "['../lc.out.linear/lc.3CLPro.flatten', '../lc.out.linear/lc.3CLPro.random']\n"
     ]
    }
   ],
   "source": [
    "fname = 'all_scores.csv'\n",
    "dpath = Path('../lc.out.linear')\n",
    "\n",
    "dirs = glob(str(dpath/'*'))\n",
    "print(dirs)"
   ]
  },
  {
   "cell_type": "code",
   "execution_count": 7,
   "metadata": {},
   "outputs": [],
   "source": [
    "src = '3CLPro'\n",
    "rnd_path = Path(dpath, f'lc.3CLPro.random', fname)\n",
    "flt_path = Path(dpath, f'lc.3CLPro.flatten', fname)\n",
    "lgb_path = None"
   ]
  },
  {
   "cell_type": "code",
   "execution_count": null,
   "metadata": {},
   "outputs": [],
   "source": []
  },
  {
   "cell_type": "markdown",
   "metadata": {},
   "source": [
    "## Load data"
   ]
  },
  {
   "cell_type": "code",
   "execution_count": 8,
   "metadata": {},
   "outputs": [],
   "source": [
    "def get_data(path, tr_set='te'):\n",
    "    if path is None:\n",
    "        return None\n",
    "    else:\n",
    "        return load_data(path, tr_set=tr_set);\n",
    "\n",
    "rr = get_data(rnd_path, tr_set='te');\n",
    "ff = get_data(flt_path, tr_set='te');"
   ]
  },
  {
   "cell_type": "code",
   "execution_count": 9,
   "metadata": {},
   "outputs": [
    {
     "name": "stdout",
     "output_type": "stream",
     "text": [
      "(72, 5)\n",
      "(72, 5)\n"
     ]
    }
   ],
   "source": [
    "print(rr.shape)\n",
    "print(ff.shape)"
   ]
  },
  {
   "cell_type": "code",
   "execution_count": 12,
   "metadata": {},
   "outputs": [
    {
     "data": {
      "text/html": [
       "<div>\n",
       "<style scoped>\n",
       "    .dataframe tbody tr th:only-of-type {\n",
       "        vertical-align: middle;\n",
       "    }\n",
       "\n",
       "    .dataframe tbody tr th {\n",
       "        vertical-align: top;\n",
       "    }\n",
       "\n",
       "    .dataframe thead th {\n",
       "        text-align: right;\n",
       "    }\n",
       "</style>\n",
       "<table border=\"1\" class=\"dataframe\">\n",
       "  <thead>\n",
       "    <tr style=\"text-align: right;\">\n",
       "      <th></th>\n",
       "      <th>run</th>\n",
       "      <th>tr_size</th>\n",
       "      <th>set</th>\n",
       "      <th>metric</th>\n",
       "      <th>score</th>\n",
       "    </tr>\n",
       "  </thead>\n",
       "  <tbody>\n",
       "    <tr>\n",
       "      <th>6</th>\n",
       "      <td>run0</td>\n",
       "      <td>50000</td>\n",
       "      <td>te</td>\n",
       "      <td>mean_absolute_error</td>\n",
       "      <td>0.524370</td>\n",
       "    </tr>\n",
       "    <tr>\n",
       "      <th>13</th>\n",
       "      <td>run0</td>\n",
       "      <td>157142</td>\n",
       "      <td>te</td>\n",
       "      <td>mean_absolute_error</td>\n",
       "      <td>0.498446</td>\n",
       "    </tr>\n",
       "    <tr>\n",
       "      <th>24</th>\n",
       "      <td>run0</td>\n",
       "      <td>264285</td>\n",
       "      <td>te</td>\n",
       "      <td>mean_absolute_error</td>\n",
       "      <td>0.487989</td>\n",
       "    </tr>\n",
       "    <tr>\n",
       "      <th>29</th>\n",
       "      <td>run0</td>\n",
       "      <td>371428</td>\n",
       "      <td>te</td>\n",
       "      <td>mean_absolute_error</td>\n",
       "      <td>0.480402</td>\n",
       "    </tr>\n",
       "    <tr>\n",
       "      <th>44</th>\n",
       "      <td>run0</td>\n",
       "      <td>478570</td>\n",
       "      <td>te</td>\n",
       "      <td>mean_absolute_error</td>\n",
       "      <td>0.477808</td>\n",
       "    </tr>\n",
       "    <tr>\n",
       "      <th>45</th>\n",
       "      <td>run0</td>\n",
       "      <td>600000</td>\n",
       "      <td>te</td>\n",
       "      <td>mean_absolute_error</td>\n",
       "      <td>0.465420</td>\n",
       "    </tr>\n",
       "    <tr>\n",
       "      <th>55</th>\n",
       "      <td>run0</td>\n",
       "      <td>700000</td>\n",
       "      <td>te</td>\n",
       "      <td>mean_absolute_error</td>\n",
       "      <td>0.468614</td>\n",
       "    </tr>\n",
       "    <tr>\n",
       "      <th>69</th>\n",
       "      <td>run0</td>\n",
       "      <td>750000</td>\n",
       "      <td>te</td>\n",
       "      <td>mean_absolute_error</td>\n",
       "      <td>0.467236</td>\n",
       "    </tr>\n",
       "  </tbody>\n",
       "</table>\n",
       "</div>"
      ],
      "text/plain": [
       "     run  tr_size set               metric     score\n",
       "6   run0    50000  te  mean_absolute_error  0.524370\n",
       "13  run0   157142  te  mean_absolute_error  0.498446\n",
       "24  run0   264285  te  mean_absolute_error  0.487989\n",
       "29  run0   371428  te  mean_absolute_error  0.480402\n",
       "44  run0   478570  te  mean_absolute_error  0.477808\n",
       "45  run0   600000  te  mean_absolute_error  0.465420\n",
       "55  run0   700000  te  mean_absolute_error  0.468614\n",
       "69  run0   750000  te  mean_absolute_error  0.467236"
      ]
     },
     "execution_count": 12,
     "metadata": {},
     "output_type": "execute_result"
    }
   ],
   "source": [
    "df = rr\n",
    "# df = ff\n",
    "df[df.metric=='mean_absolute_error'].sort_values('tr_size')"
   ]
  },
  {
   "cell_type": "code",
   "execution_count": 13,
   "metadata": {},
   "outputs": [
    {
     "data": {
      "text/html": [
       "<div>\n",
       "<style scoped>\n",
       "    .dataframe tbody tr th:only-of-type {\n",
       "        vertical-align: middle;\n",
       "    }\n",
       "\n",
       "    .dataframe tbody tr th {\n",
       "        vertical-align: top;\n",
       "    }\n",
       "\n",
       "    .dataframe thead th {\n",
       "        text-align: right;\n",
       "    }\n",
       "</style>\n",
       "<table border=\"1\" class=\"dataframe\">\n",
       "  <thead>\n",
       "    <tr style=\"text-align: right;\">\n",
       "      <th></th>\n",
       "      <th>tr_size</th>\n",
       "      <th>one</th>\n",
       "    </tr>\n",
       "  </thead>\n",
       "  <tbody>\n",
       "    <tr>\n",
       "      <th>0</th>\n",
       "      <td>50000</td>\n",
       "      <td>1</td>\n",
       "    </tr>\n",
       "    <tr>\n",
       "      <th>1</th>\n",
       "      <td>157142</td>\n",
       "      <td>1</td>\n",
       "    </tr>\n",
       "    <tr>\n",
       "      <th>2</th>\n",
       "      <td>264285</td>\n",
       "      <td>1</td>\n",
       "    </tr>\n",
       "    <tr>\n",
       "      <th>3</th>\n",
       "      <td>371428</td>\n",
       "      <td>1</td>\n",
       "    </tr>\n",
       "    <tr>\n",
       "      <th>4</th>\n",
       "      <td>478570</td>\n",
       "      <td>1</td>\n",
       "    </tr>\n",
       "    <tr>\n",
       "      <th>5</th>\n",
       "      <td>600000</td>\n",
       "      <td>1</td>\n",
       "    </tr>\n",
       "    <tr>\n",
       "      <th>6</th>\n",
       "      <td>700000</td>\n",
       "      <td>1</td>\n",
       "    </tr>\n",
       "    <tr>\n",
       "      <th>7</th>\n",
       "      <td>750000</td>\n",
       "      <td>1</td>\n",
       "    </tr>\n",
       "  </tbody>\n",
       "</table>\n",
       "</div>"
      ],
      "text/plain": [
       "   tr_size  one\n",
       "0    50000    1\n",
       "1   157142    1\n",
       "2   264285    1\n",
       "3   371428    1\n",
       "4   478570    1\n",
       "5   600000    1\n",
       "6   700000    1\n",
       "7   750000    1"
      ]
     },
     "metadata": {},
     "output_type": "display_data"
    },
    {
     "data": {
      "text/html": [
       "<div>\n",
       "<style scoped>\n",
       "    .dataframe tbody tr th:only-of-type {\n",
       "        vertical-align: middle;\n",
       "    }\n",
       "\n",
       "    .dataframe tbody tr th {\n",
       "        vertical-align: top;\n",
       "    }\n",
       "\n",
       "    .dataframe thead th {\n",
       "        text-align: right;\n",
       "    }\n",
       "</style>\n",
       "<table border=\"1\" class=\"dataframe\">\n",
       "  <thead>\n",
       "    <tr style=\"text-align: right;\">\n",
       "      <th></th>\n",
       "      <th>tr_size</th>\n",
       "      <th>one</th>\n",
       "    </tr>\n",
       "  </thead>\n",
       "  <tbody>\n",
       "    <tr>\n",
       "      <th>0</th>\n",
       "      <td>50000</td>\n",
       "      <td>1</td>\n",
       "    </tr>\n",
       "    <tr>\n",
       "      <th>1</th>\n",
       "      <td>157142</td>\n",
       "      <td>1</td>\n",
       "    </tr>\n",
       "    <tr>\n",
       "      <th>2</th>\n",
       "      <td>264285</td>\n",
       "      <td>1</td>\n",
       "    </tr>\n",
       "    <tr>\n",
       "      <th>3</th>\n",
       "      <td>371428</td>\n",
       "      <td>1</td>\n",
       "    </tr>\n",
       "    <tr>\n",
       "      <th>4</th>\n",
       "      <td>478570</td>\n",
       "      <td>1</td>\n",
       "    </tr>\n",
       "    <tr>\n",
       "      <th>5</th>\n",
       "      <td>585713</td>\n",
       "      <td>1</td>\n",
       "    </tr>\n",
       "    <tr>\n",
       "      <th>6</th>\n",
       "      <td>692856</td>\n",
       "      <td>1</td>\n",
       "    </tr>\n",
       "    <tr>\n",
       "      <th>7</th>\n",
       "      <td>799999</td>\n",
       "      <td>1</td>\n",
       "    </tr>\n",
       "  </tbody>\n",
       "</table>\n",
       "</div>"
      ],
      "text/plain": [
       "   tr_size  one\n",
       "0    50000    1\n",
       "1   157142    1\n",
       "2   264285    1\n",
       "3   371428    1\n",
       "4   478570    1\n",
       "5   585713    1\n",
       "6   692856    1\n",
       "7   799999    1"
      ]
     },
     "metadata": {},
     "output_type": "display_data"
    }
   ],
   "source": [
    "def print_count(aa):\n",
    "    # aa = nn0_rnd\n",
    "    aa['one'] = 1\n",
    "    aa = aa[(aa['set']=='te') & (aa['metric']=='mean_absolute_error')]\n",
    "    display(aa.groupby(['tr_size']).agg({'one': 'sum'}).sort_values('tr_size').reset_index())\n",
    "    \n",
    "print_count(aa=rr)\n",
    "print_count(aa=ff)"
   ]
  },
  {
   "cell_type": "code",
   "execution_count": null,
   "metadata": {},
   "outputs": [],
   "source": []
  },
  {
   "cell_type": "markdown",
   "metadata": {},
   "source": [
    "## Raw plots"
   ]
  },
  {
   "cell_type": "code",
   "execution_count": 14,
   "metadata": {},
   "outputs": [],
   "source": [
    "# Global plotting params\n",
    "# -------------------------------\n",
    "met = 'mean_absolute_error'\n",
    "# met = 'mcc'\n",
    "t_set = 'te'\n",
    "# xtick_scale = 'log2'\n",
    "# ytick_scale = 'log2'\n",
    "xtick_scale = 'linear'\n",
    "ytick_scale = 'linear'\n",
    "\n",
    "kwargs = {'metric_name': met,\n",
    "          'tr_set': t_set,\n",
    "          'xtick_scale': xtick_scale,\n",
    "          'ytick_scale': ytick_scale,\n",
    "          'plot_median': True}"
   ]
  },
  {
   "cell_type": "code",
   "execution_count": 15,
   "metadata": {},
   "outputs": [
    {
     "data": {
      "image/png": "[encoded data removed]",
      "text/plain": [
       "<Figure size 504x360 with 1 Axes>"
      ]
     },
     "metadata": {
      "needs_background": "light"
     },
     "output_type": "display_data"
    }
   ],
   "source": [
    "# Plot random\n",
    "# -------------------------------\n",
    "if rr is not None:\n",
    "    kwargs.update({'title': f'{src} ~ random'})\n",
    "    ax = lc_plots.plot_lc_single_metric(rr, **kwargs);"
   ]
  },
  {
   "cell_type": "code",
   "execution_count": 16,
   "metadata": {},
   "outputs": [
    {
     "data": {
      "image/png": "[encoded data removed]",
      "text/plain": [
       "<Figure size 504x360 with 1 Axes>"
      ]
     },
     "metadata": {
      "needs_background": "light"
     },
     "output_type": "display_data"
    }
   ],
   "source": [
    "# Plot random\n",
    "# -------------------------------\n",
    "if ff is not None:\n",
    "    kwargs.update({'title': f'{src} ~ flatten'})\n",
    "    ax = lc_plots.plot_lc_single_metric(ff, **kwargs);"
   ]
  },
  {
   "cell_type": "code",
   "execution_count": 183,
   "metadata": {},
   "outputs": [],
   "source": [
    "# Plot\n",
    "# -------------------------------\n",
    "if lgb is not None:\n",
    "    kwargs.update({'title': f'{src} ~ lgb'})\n",
    "    ax = lc_plots.plot_lc_single_metric(lgb, **kwargs);"
   ]
  },
  {
   "cell_type": "code",
   "execution_count": 20,
   "metadata": {},
   "outputs": [
    {
     "data": {
      "image/png": "[encoded data removed]",
      "text/plain": [
       "<Figure size 504x360 with 1 Axes>"
      ]
     },
     "metadata": {
      "needs_background": "light"
     },
     "output_type": "display_data"
    }
   ],
   "source": [
    "# Plot\n",
    "# -------------------------------\n",
    "ax = None\n",
    "kwargs = {'metric_name': met, 'xtick_scale': xtick_scale, 'ytick_scale': ytick_scale}\n",
    "\n",
    "if rr is not None:\n",
    "    rr = rr[rr.metric==met].reset_index(drop=True)\n",
    "    ax = lc_plots.plot_lc(x=rr['tr_size'].values, y=rr['score'].values, color='b', label='Random (normal)', **kwargs, ax=ax);\n",
    "\n",
    "if ff is not None:\n",
    "    ff = ff.copy()\n",
    "    ff = ff[ff.metric==met].reset_index(drop=True)\n",
    "    ax = lc_plots.plot_lc(x=ff['tr_size'].values, y=ff['score'].values, color='r', label='Flatten (uniform)', **kwargs, ax=ax);\n",
    "    \n",
    "ax.legend(loc='best')\n",
    "ax.set_title('3CLPro: Random vs. Flatten sampling')\n",
    "plt.tight_layout()\n",
    "plt.savefig(outpath/('3CLPro_random_vs_flatten.png'), dpi=100)"
   ]
  },
  {
   "cell_type": "code",
   "execution_count": null,
   "metadata": {},
   "outputs": [],
   "source": []
  },
  {
   "cell_type": "markdown",
   "metadata": {},
   "source": [
    "## Fitting"
   ]
  },
  {
   "cell_type": "code",
   "execution_count": 185,
   "metadata": {},
   "outputs": [],
   "source": [
    "# # Choose the dataset\n",
    "# df = nn0.copy(); model = 'nn0'\n",
    "# # df = nn1.copy(); model = 'nn1'\n",
    "# # df = lgb.copy(); model = 'LGBM'\n",
    "\n",
    "# # ----------------\n",
    "# # Prepare the data\n",
    "# # ----------------\n",
    "# df = df[ df['metric']==met ].reset_index(drop=True)\n",
    "# print('Raw dataset of scores', df.shape)\n",
    "\n",
    "# # Agg scores\n",
    "# df['y'] = df['score']\n",
    "# df = df[df['metric']==met].groupby('tr_size').agg({'y': 'median'}).reset_index()\n",
    "# print('Agg with median', df.shape)\n",
    "\n",
    "# # Split dfit and dext\n",
    "# x_fit_mn = 1000\n",
    "# x_fit_mx = None\n",
    "\n",
    "# dfit = subset_data(df, col='tr_size', x_mn=x_fit_mn, x_mx=x_fit_mx)\n",
    "# dfit = add_weight_col(dfit)\n",
    "\n",
    "# print('dfit.shape:', dfit.shape)\n",
    "# print('Train size (dfit):', dfit['tr_size'].unique())"
   ]
  },
  {
   "cell_type": "code",
   "execution_count": 186,
   "metadata": {},
   "outputs": [],
   "source": [
    "nn0 = nn0_rnd\n",
    "nn1 = nn1_rnd\n",
    "\n",
    "# nn0 = nn0_flt\n",
    "# nn1 = nn1_flt"
   ]
  },
  {
   "cell_type": "code",
   "execution_count": 187,
   "metadata": {},
   "outputs": [],
   "source": [
    "def fit_data(df, x_fit_mn=0, x_fit_mx=None):\n",
    "    if df is None:\n",
    "        return None\n",
    "    \n",
    "    df = df[ df['metric']==met ].reset_index(drop=True)\n",
    "    df['y'] = df['score']\n",
    "    df = df[df['metric']==met].groupby('tr_size').agg({'y': 'median'}).reset_index()\n",
    "    \n",
    "    dfit = subset_data(df, col='tr_size', x_mn=x_fit_mn, x_mx=x_fit_mx)\n",
    "    dfit = add_weight_col(dfit)\n",
    "    return dfit"
   ]
  },
  {
   "cell_type": "code",
   "execution_count": 188,
   "metadata": {},
   "outputs": [],
   "source": [
    "# Split dfit and dext\n",
    "x_fit_mn = 1000\n",
    "x_fit_mx = None\n",
    "\n",
    "dfit_nn0 = fit_data(nn0, x_fit_mn=x_fit_mn, x_fit_mx=x_fit_mx)\n",
    "dfit_nn1 = fit_data(nn1, x_fit_mn=x_fit_mn, x_fit_mx=x_fit_mx)\n",
    "dfit_lgb = fit_data(lgb, x_fit_mn=x_fit_mn, x_fit_mx=x_fit_mx)"
   ]
  },
  {
   "cell_type": "code",
   "execution_count": 189,
   "metadata": {},
   "outputs": [
    {
     "name": "stdout",
     "output_type": "stream",
     "text": [
      "[369806 499618 580947 610743 625000 642067 674999]\n"
     ]
    },
    {
     "data": {
      "text/html": [
       "<div>\n",
       "<style scoped>\n",
       "    .dataframe tbody tr th:only-of-type {\n",
       "        vertical-align: middle;\n",
       "    }\n",
       "\n",
       "    .dataframe tbody tr th {\n",
       "        vertical-align: top;\n",
       "    }\n",
       "\n",
       "    .dataframe thead th {\n",
       "        text-align: right;\n",
       "    }\n",
       "</style>\n",
       "<table border=\"1\" class=\"dataframe\">\n",
       "  <thead>\n",
       "    <tr style=\"text-align: right;\">\n",
       "      <th></th>\n",
       "      <th>tr_size</th>\n",
       "      <th>y</th>\n",
       "      <th>w</th>\n",
       "    </tr>\n",
       "  </thead>\n",
       "  <tbody>\n",
       "    <tr>\n",
       "      <th>0</th>\n",
       "      <td>369806</td>\n",
       "      <td>0.036094</td>\n",
       "      <td>0.547862</td>\n",
       "    </tr>\n",
       "    <tr>\n",
       "      <th>1</th>\n",
       "      <td>499618</td>\n",
       "      <td>0.034653</td>\n",
       "      <td>0.740176</td>\n",
       "    </tr>\n",
       "    <tr>\n",
       "      <th>2</th>\n",
       "      <td>580947</td>\n",
       "      <td>0.034154</td>\n",
       "      <td>0.860663</td>\n",
       "    </tr>\n",
       "    <tr>\n",
       "      <th>3</th>\n",
       "      <td>610743</td>\n",
       "      <td>0.033663</td>\n",
       "      <td>0.904806</td>\n",
       "    </tr>\n",
       "    <tr>\n",
       "      <th>4</th>\n",
       "      <td>625000</td>\n",
       "      <td>0.033680</td>\n",
       "      <td>0.925927</td>\n",
       "    </tr>\n",
       "    <tr>\n",
       "      <th>5</th>\n",
       "      <td>642067</td>\n",
       "      <td>0.033375</td>\n",
       "      <td>0.951212</td>\n",
       "    </tr>\n",
       "    <tr>\n",
       "      <th>6</th>\n",
       "      <td>674999</td>\n",
       "      <td>0.033246</td>\n",
       "      <td>1.000000</td>\n",
       "    </tr>\n",
       "  </tbody>\n",
       "</table>\n",
       "</div>"
      ],
      "text/plain": [
       "   tr_size         y         w\n",
       "0   369806  0.036094  0.547862\n",
       "1   499618  0.034653  0.740176\n",
       "2   580947  0.034154  0.860663\n",
       "3   610743  0.033663  0.904806\n",
       "4   625000  0.033680  0.925927\n",
       "5   642067  0.033375  0.951212\n",
       "6   674999  0.033246  1.000000"
      ]
     },
     "metadata": {},
     "output_type": "display_data"
    },
    {
     "name": "stdout",
     "output_type": "stream",
     "text": [
      "[610743 625000 642067 674999]\n"
     ]
    },
    {
     "data": {
      "text/html": [
       "<div>\n",
       "<style scoped>\n",
       "    .dataframe tbody tr th:only-of-type {\n",
       "        vertical-align: middle;\n",
       "    }\n",
       "\n",
       "    .dataframe tbody tr th {\n",
       "        vertical-align: top;\n",
       "    }\n",
       "\n",
       "    .dataframe thead th {\n",
       "        text-align: right;\n",
       "    }\n",
       "</style>\n",
       "<table border=\"1\" class=\"dataframe\">\n",
       "  <thead>\n",
       "    <tr style=\"text-align: right;\">\n",
       "      <th></th>\n",
       "      <th>tr_size</th>\n",
       "      <th>y</th>\n",
       "      <th>w</th>\n",
       "    </tr>\n",
       "  </thead>\n",
       "  <tbody>\n",
       "    <tr>\n",
       "      <th>0</th>\n",
       "      <td>610743</td>\n",
       "      <td>0.032307</td>\n",
       "      <td>0.904806</td>\n",
       "    </tr>\n",
       "    <tr>\n",
       "      <th>1</th>\n",
       "      <td>625000</td>\n",
       "      <td>0.032194</td>\n",
       "      <td>0.925927</td>\n",
       "    </tr>\n",
       "    <tr>\n",
       "      <th>2</th>\n",
       "      <td>642067</td>\n",
       "      <td>0.032120</td>\n",
       "      <td>0.951212</td>\n",
       "    </tr>\n",
       "    <tr>\n",
       "      <th>3</th>\n",
       "      <td>674999</td>\n",
       "      <td>0.032020</td>\n",
       "      <td>1.000000</td>\n",
       "    </tr>\n",
       "  </tbody>\n",
       "</table>\n",
       "</div>"
      ],
      "text/plain": [
       "   tr_size         y         w\n",
       "0   610743  0.032307  0.904806\n",
       "1   625000  0.032194  0.925927\n",
       "2   642067  0.032120  0.951212\n",
       "3   674999  0.032020  1.000000"
      ]
     },
     "metadata": {},
     "output_type": "display_data"
    }
   ],
   "source": [
    "print(dfit_nn0.tr_size.values)\n",
    "display(dfit_nn0)\n",
    "\n",
    "print(dfit_nn1.tr_size.values)\n",
    "display(dfit_nn1)"
   ]
  },
  {
   "cell_type": "code",
   "execution_count": 190,
   "metadata": {},
   "outputs": [
    {
     "data": {
      "text/plain": [
       "None"
      ]
     },
     "metadata": {},
     "output_type": "display_data"
    }
   ],
   "source": [
    "display(dfit_lgb)"
   ]
  },
  {
   "cell_type": "code",
   "execution_count": 191,
   "metadata": {},
   "outputs": [],
   "source": [
    "# # dfit_nn0\n",
    "# # aa = pd.DataFrame({'tr_size': [500000, 600000], 'y': [0.03209393381347737, 0.031212652546018717], 'w': [None, None]})\n",
    "# aa = pd.DataFrame({'tr_size': [500000, 600000, 700000], 'y': [0.03209393381347737, 0.031212652546018717, 0.031], 'w': [None, None, None]})\n",
    "# aa = pd.concat([dfit_nn0, aa], axis=0).reset_index(drop=True)\n",
    "# aa = aa.drop(columns='w')\n",
    "# dfit_nn0 = add_weight_col(aa)\n",
    "# # dfit_nn0\n",
    "\n",
    "# aa = pd.DataFrame({'tr_size': [500000, 600000, 700000], 'y': [0.031454373618454386, 0.03068806403157959, 0.03], 'w': [None, None, None]})\n",
    "# aa = pd.concat([dfit_nn1, aa], axis=0).reset_index(drop=True)\n",
    "# aa = aa.drop(columns='w')\n",
    "# dfit_nn1 = add_weight_col(aa)\n",
    "# # dfit_nn0"
   ]
  },
  {
   "cell_type": "code",
   "execution_count": 192,
   "metadata": {},
   "outputs": [],
   "source": [
    "# aa = pd.DataFrame({'tr_size': [50000, 100000, 200000, 300000, 400000, 500000, 600000, 700000],\n",
    "#                    'y': np.ones((8,))})\n",
    "# aa = add_weight_col(aa)\n",
    "# dfit_nn0 = aa"
   ]
  },
  {
   "cell_type": "code",
   "execution_count": 193,
   "metadata": {},
   "outputs": [],
   "source": [
    "pnts_args = {'metric_name': met, 'xtick_scale': xtick_scale, 'ytick_scale': ytick_scale, 'alpha': 0.5, 'ls': '', 'marker': '.'}\n",
    "fit_args = {'metric_name': met, 'xtick_scale': xtick_scale, 'ytick_scale': ytick_scale, 'alpha': 0.5, 'ls': '--', 'marker': ''}"
   ]
  },
  {
   "cell_type": "code",
   "execution_count": 194,
   "metadata": {},
   "outputs": [
    {
     "data": {
      "image/png": "[encoded data removed]",
      "text/plain": [
       "<Figure size 504x360 with 1 Axes>"
      ]
     },
     "metadata": {
      "needs_background": "light"
     },
     "output_type": "display_data"
    }
   ],
   "source": [
    "# Reset axes\n",
    "ax = None\n",
    "\n",
    "# NN0\n",
    "if nn0 is not None:\n",
    "    name = 'nn0'\n",
    "    color = 'b'\n",
    "    aa = dfit_nn0\n",
    "    \n",
    "    xf = aa['tr_size'].values\n",
    "    yf = aa['y'].values\n",
    "    cc_nn0 = FitPwrLaw(xf=xf, yf=yf, w=aa['w'].values)\n",
    "    xf_plot_nn0, yf_plot_nn0 = cc_nn0.calc_fit( x1=xf[0], x2=xf[-1] )\n",
    "    \n",
    "    ax = lc_plots.plot_lc(x=xf, y=yf, ax=ax, **pnts_args, color=color, label=f'{name} data')\n",
    "    ax = lc_plots.plot_lc(x=xf_plot_nn0, y=yf_plot_nn0, ax=ax, **fit_args, color=color, label=f'{name} fit')\n",
    "\n",
    "# NN1\n",
    "if nn1 is not None:\n",
    "    name = 'nn1'\n",
    "    color = 'r'\n",
    "    aa = dfit_nn1\n",
    "    \n",
    "    xf = aa['tr_size'].values\n",
    "    yf = aa['y'].values\n",
    "    cc_nn1 = FitPwrLaw(xf=xf, yf=yf, w=aa['w'].values)\n",
    "    xf_plot, yf_plot = cc_nn1.calc_fit( x1=xf[0], x2=xf[-1] )\n",
    "    \n",
    "    ax = lc_plots.plot_lc(x=xf, y=yf, ax=ax, **pnts_args, color=color, label=f'{name} data')\n",
    "    ax = lc_plots.plot_lc(x=xf_plot, y=yf_plot, ax=ax, **fit_args, color=color, label=f'{name} fit')\n",
    "\n",
    "# LGB\n",
    "if lgb is not None:\n",
    "    name = 'lgb'\n",
    "    color = 'g'\n",
    "    aa = dfit_lgb\n",
    "    \n",
    "    xf = aa['tr_size'].values\n",
    "    yf = aa['y'].values\n",
    "    cc_lgb = FitPwrLaw(xf=xf, yf=yf, w=aa['w'].values)\n",
    "    xf_plot, yf_plot = cc_lgb.calc_fit( x1=xf[0], x2=xf[-1] )\n",
    "    \n",
    "    ax = lc_plots.plot_lc(x=xf, y=yf, ax=ax, **pnts_args, color=color, label=f'{name} data')\n",
    "    ax = lc_plots.plot_lc(x=xf_plot, y=yf_plot, ax=ax, **fit_args, color=color, label=f'{name} fit')\n",
    "\n",
    "ax.set_title(f'{src}')\n",
    "ax.legend(frameon=True, fontsize=10, loc='best')\n",
    "ax.grid(False)"
   ]
  },
  {
   "cell_type": "code",
   "execution_count": 195,
   "metadata": {},
   "outputs": [
    {
     "data": {
      "text/html": [
       "<div>\n",
       "<style scoped>\n",
       "    .dataframe tbody tr th:only-of-type {\n",
       "        vertical-align: middle;\n",
       "    }\n",
       "\n",
       "    .dataframe tbody tr th {\n",
       "        vertical-align: top;\n",
       "    }\n",
       "\n",
       "    .dataframe thead th {\n",
       "        text-align: right;\n",
       "    }\n",
       "</style>\n",
       "<table border=\"1\" class=\"dataframe\">\n",
       "  <thead>\n",
       "    <tr style=\"text-align: right;\">\n",
       "      <th></th>\n",
       "      <th>coef</th>\n",
       "      <th>est</th>\n",
       "      <th>se</th>\n",
       "      <th>t_val</th>\n",
       "      <th>p_val</th>\n",
       "    </tr>\n",
       "  </thead>\n",
       "  <tbody>\n",
       "    <tr>\n",
       "      <th>0</th>\n",
       "      <td>a</td>\n",
       "      <td>0.173178</td>\n",
       "      <td>0.256574</td>\n",
       "      <td>0.674960</td>\n",
       "      <td>0.536705</td>\n",
       "    </tr>\n",
       "    <tr>\n",
       "      <th>1</th>\n",
       "      <td>b</td>\n",
       "      <td>-0.091545</td>\n",
       "      <td>0.672262</td>\n",
       "      <td>-0.136174</td>\n",
       "      <td>0.898262</td>\n",
       "    </tr>\n",
       "    <tr>\n",
       "      <th>2</th>\n",
       "      <td>c</td>\n",
       "      <td>-0.017419</td>\n",
       "      <td>0.382363</td>\n",
       "      <td>-0.045557</td>\n",
       "      <td>0.965847</td>\n",
       "    </tr>\n",
       "  </tbody>\n",
       "</table>\n",
       "</div>"
      ],
      "text/plain": [
       "  coef       est        se     t_val     p_val\n",
       "0    a  0.173178  0.256574  0.674960  0.536705\n",
       "1    b -0.091545  0.672262 -0.136174  0.898262\n",
       "2    c -0.017419  0.382363 -0.045557  0.965847"
      ]
     },
     "metadata": {},
     "output_type": "display_data"
    }
   ],
   "source": [
    "display(cc_nn0.coefs)"
   ]
  },
  {
   "cell_type": "code",
   "execution_count": 196,
   "metadata": {},
   "outputs": [
    {
     "data": {
      "text/html": [
       "<div>\n",
       "<style scoped>\n",
       "    .dataframe tbody tr th:only-of-type {\n",
       "        vertical-align: middle;\n",
       "    }\n",
       "\n",
       "    .dataframe tbody tr th {\n",
       "        vertical-align: top;\n",
       "    }\n",
       "\n",
       "    .dataframe thead th {\n",
       "        text-align: right;\n",
       "    }\n",
       "</style>\n",
       "<table border=\"1\" class=\"dataframe\">\n",
       "  <thead>\n",
       "    <tr style=\"text-align: right;\">\n",
       "      <th></th>\n",
       "      <th>coef</th>\n",
       "      <th>est</th>\n",
       "      <th>se</th>\n",
       "      <th>t_val</th>\n",
       "      <th>p_val</th>\n",
       "    </tr>\n",
       "  </thead>\n",
       "  <tbody>\n",
       "    <tr>\n",
       "      <th>0</th>\n",
       "      <td>a</td>\n",
       "      <td>45.476320</td>\n",
       "      <td>7665.897159</td>\n",
       "      <td>0.005932</td>\n",
       "      <td>0.996223</td>\n",
       "    </tr>\n",
       "    <tr>\n",
       "      <th>1</th>\n",
       "      <td>b</td>\n",
       "      <td>-0.699784</td>\n",
       "      <td>14.112215</td>\n",
       "      <td>-0.049587</td>\n",
       "      <td>0.968458</td>\n",
       "    </tr>\n",
       "    <tr>\n",
       "      <th>2</th>\n",
       "      <td>c</td>\n",
       "      <td>0.028216</td>\n",
       "      <td>0.079030</td>\n",
       "      <td>0.357032</td>\n",
       "      <td>0.781687</td>\n",
       "    </tr>\n",
       "  </tbody>\n",
       "</table>\n",
       "</div>"
      ],
      "text/plain": [
       "  coef        est           se     t_val     p_val\n",
       "0    a  45.476320  7665.897159  0.005932  0.996223\n",
       "1    b  -0.699784    14.112215 -0.049587  0.968458\n",
       "2    c   0.028216     0.079030  0.357032  0.781687"
      ]
     },
     "metadata": {},
     "output_type": "display_data"
    }
   ],
   "source": [
    "display(cc_nn1.coefs)"
   ]
  },
  {
   "cell_type": "code",
   "execution_count": 27,
   "metadata": {},
   "outputs": [
    {
     "ename": "NameError",
     "evalue": "name 'cc_lgb' is not defined",
     "output_type": "error",
     "traceback": [
      "\u001b[0;31m---------------------------------------------------------------------------\u001b[0m",
      "\u001b[0;31mNameError\u001b[0m                                 Traceback (most recent call last)",
      "\u001b[0;32m<ipython-input-27-b0078912551e>\u001b[0m in \u001b[0;36m<module>\u001b[0;34m\u001b[0m\n\u001b[0;32m----> 1\u001b[0;31m \u001b[0mdisplay\u001b[0m\u001b[0;34m(\u001b[0m\u001b[0mcc_lgb\u001b[0m\u001b[0;34m.\u001b[0m\u001b[0mcoefs\u001b[0m\u001b[0;34m)\u001b[0m\u001b[0;34m\u001b[0m\u001b[0;34m\u001b[0m\u001b[0m\n\u001b[0m",
      "\u001b[0;31mNameError\u001b[0m: name 'cc_lgb' is not defined"
     ]
    }
   ],
   "source": [
    "display(cc_lgb.coefs)"
   ]
  },
  {
   "cell_type": "code",
   "execution_count": null,
   "metadata": {},
   "outputs": [],
   "source": []
  },
  {
   "cell_type": "code",
   "execution_count": 29,
   "metadata": {},
   "outputs": [
    {
     "data": {
      "text/html": [
       "<div>\n",
       "<style scoped>\n",
       "    .dataframe tbody tr th:only-of-type {\n",
       "        vertical-align: middle;\n",
       "    }\n",
       "\n",
       "    .dataframe tbody tr th {\n",
       "        vertical-align: top;\n",
       "    }\n",
       "\n",
       "    .dataframe thead th {\n",
       "        text-align: right;\n",
       "    }\n",
       "</style>\n",
       "<table border=\"1\" class=\"dataframe\">\n",
       "  <thead>\n",
       "    <tr style=\"text-align: right;\">\n",
       "      <th></th>\n",
       "      <th>tr_size</th>\n",
       "      <th>MAE_median</th>\n",
       "      <th>std</th>\n",
       "      <th>min</th>\n",
       "      <th>max</th>\n",
       "      <th>%</th>\n",
       "    </tr>\n",
       "  </thead>\n",
       "  <tbody>\n",
       "    <tr>\n",
       "      <th>0</th>\n",
       "      <td>2024</td>\n",
       "      <td>0.069722</td>\n",
       "      <td>0.002723</td>\n",
       "      <td>0.065396</td>\n",
       "      <td>0.081206</td>\n",
       "      <td>0.039062</td>\n",
       "    </tr>\n",
       "    <tr>\n",
       "      <th>1</th>\n",
       "      <td>3272</td>\n",
       "      <td>0.065355</td>\n",
       "      <td>0.001848</td>\n",
       "      <td>0.062163</td>\n",
       "      <td>0.070789</td>\n",
       "      <td>0.028271</td>\n",
       "    </tr>\n",
       "    <tr>\n",
       "      <th>2</th>\n",
       "      <td>5292</td>\n",
       "      <td>0.061462</td>\n",
       "      <td>0.001791</td>\n",
       "      <td>0.058772</td>\n",
       "      <td>0.067611</td>\n",
       "      <td>0.029143</td>\n",
       "    </tr>\n",
       "    <tr>\n",
       "      <th>3</th>\n",
       "      <td>8557</td>\n",
       "      <td>0.057698</td>\n",
       "      <td>0.001153</td>\n",
       "      <td>0.055799</td>\n",
       "      <td>0.060618</td>\n",
       "      <td>0.019977</td>\n",
       "    </tr>\n",
       "    <tr>\n",
       "      <th>4</th>\n",
       "      <td>13837</td>\n",
       "      <td>0.053507</td>\n",
       "      <td>0.001229</td>\n",
       "      <td>0.051794</td>\n",
       "      <td>0.056341</td>\n",
       "      <td>0.022969</td>\n",
       "    </tr>\n",
       "    <tr>\n",
       "      <th>5</th>\n",
       "      <td>22375</td>\n",
       "      <td>0.049501</td>\n",
       "      <td>0.000920</td>\n",
       "      <td>0.048131</td>\n",
       "      <td>0.052482</td>\n",
       "      <td>0.018595</td>\n",
       "    </tr>\n",
       "    <tr>\n",
       "      <th>6</th>\n",
       "      <td>36181</td>\n",
       "      <td>0.045684</td>\n",
       "      <td>0.000824</td>\n",
       "      <td>0.044645</td>\n",
       "      <td>0.047753</td>\n",
       "      <td>0.018035</td>\n",
       "    </tr>\n",
       "    <tr>\n",
       "      <th>7</th>\n",
       "      <td>58506</td>\n",
       "      <td>0.042179</td>\n",
       "      <td>0.000680</td>\n",
       "      <td>0.041254</td>\n",
       "      <td>0.044441</td>\n",
       "      <td>0.016125</td>\n",
       "    </tr>\n",
       "    <tr>\n",
       "      <th>8</th>\n",
       "      <td>94606</td>\n",
       "      <td>0.039301</td>\n",
       "      <td>0.000514</td>\n",
       "      <td>0.038421</td>\n",
       "      <td>0.040799</td>\n",
       "      <td>0.013067</td>\n",
       "    </tr>\n",
       "    <tr>\n",
       "      <th>9</th>\n",
       "      <td>152979</td>\n",
       "      <td>0.036845</td>\n",
       "      <td>0.000480</td>\n",
       "      <td>0.035725</td>\n",
       "      <td>0.038452</td>\n",
       "      <td>0.013023</td>\n",
       "    </tr>\n",
       "    <tr>\n",
       "      <th>10</th>\n",
       "      <td>247369</td>\n",
       "      <td>0.034581</td>\n",
       "      <td>0.000376</td>\n",
       "      <td>0.033947</td>\n",
       "      <td>0.035909</td>\n",
       "      <td>0.010862</td>\n",
       "    </tr>\n",
       "    <tr>\n",
       "      <th>11</th>\n",
       "      <td>400000</td>\n",
       "      <td>0.032770</td>\n",
       "      <td>0.000353</td>\n",
       "      <td>0.032117</td>\n",
       "      <td>0.033723</td>\n",
       "      <td>0.010772</td>\n",
       "    </tr>\n",
       "  </tbody>\n",
       "</table>\n",
       "</div>"
      ],
      "text/plain": [
       "    tr_size  MAE_median       std       min       max         %\n",
       "0      2024    0.069722  0.002723  0.065396  0.081206  0.039062\n",
       "1      3272    0.065355  0.001848  0.062163  0.070789  0.028271\n",
       "2      5292    0.061462  0.001791  0.058772  0.067611  0.029143\n",
       "3      8557    0.057698  0.001153  0.055799  0.060618  0.019977\n",
       "4     13837    0.053507  0.001229  0.051794  0.056341  0.022969\n",
       "5     22375    0.049501  0.000920  0.048131  0.052482  0.018595\n",
       "6     36181    0.045684  0.000824  0.044645  0.047753  0.018035\n",
       "7     58506    0.042179  0.000680  0.041254  0.044441  0.016125\n",
       "8     94606    0.039301  0.000514  0.038421  0.040799  0.013067\n",
       "9    152979    0.036845  0.000480  0.035725  0.038452  0.013023\n",
       "10   247369    0.034581  0.000376  0.033947  0.035909  0.010862\n",
       "11   400000    0.032770  0.000353  0.032117  0.033723  0.010772"
      ]
     },
     "execution_count": 29,
     "metadata": {},
     "output_type": "execute_result"
    }
   ],
   "source": [
    "aa = nn0\n",
    "aa['std'] = aa['score']\n",
    "aa['min'] = aa['score']\n",
    "aa['max'] = aa['score']\n",
    "aa = aa.groupby(['tr_size']).agg({'score': 'median', 'std': 'std', 'min': 'min', 'max': 'max'}).reset_index()\n",
    "aa = aa.rename(columns={'score': 'MAE_median'})\n",
    "aa['%'] = aa['std']/aa['MAE_median']\n",
    "aa"
   ]
  },
  {
   "cell_type": "code",
   "execution_count": 30,
   "metadata": {},
   "outputs": [
    {
     "data": {
      "text/html": [
       "<div>\n",
       "<style scoped>\n",
       "    .dataframe tbody tr th:only-of-type {\n",
       "        vertical-align: middle;\n",
       "    }\n",
       "\n",
       "    .dataframe tbody tr th {\n",
       "        vertical-align: top;\n",
       "    }\n",
       "\n",
       "    .dataframe thead th {\n",
       "        text-align: right;\n",
       "    }\n",
       "</style>\n",
       "<table border=\"1\" class=\"dataframe\">\n",
       "  <thead>\n",
       "    <tr style=\"text-align: right;\">\n",
       "      <th></th>\n",
       "      <th>tr_size</th>\n",
       "      <th>MAE_median</th>\n",
       "      <th>std</th>\n",
       "      <th>min</th>\n",
       "      <th>max</th>\n",
       "      <th>%</th>\n",
       "    </tr>\n",
       "  </thead>\n",
       "  <tbody>\n",
       "    <tr>\n",
       "      <th>0</th>\n",
       "      <td>2024</td>\n",
       "      <td>0.068909</td>\n",
       "      <td>0.001621</td>\n",
       "      <td>0.066100</td>\n",
       "      <td>0.072508</td>\n",
       "      <td>0.023530</td>\n",
       "    </tr>\n",
       "    <tr>\n",
       "      <th>1</th>\n",
       "      <td>3272</td>\n",
       "      <td>0.065155</td>\n",
       "      <td>0.001868</td>\n",
       "      <td>0.061429</td>\n",
       "      <td>0.068759</td>\n",
       "      <td>0.028666</td>\n",
       "    </tr>\n",
       "    <tr>\n",
       "      <th>2</th>\n",
       "      <td>5292</td>\n",
       "      <td>0.060490</td>\n",
       "      <td>0.001835</td>\n",
       "      <td>0.057981</td>\n",
       "      <td>0.065394</td>\n",
       "      <td>0.030340</td>\n",
       "    </tr>\n",
       "    <tr>\n",
       "      <th>3</th>\n",
       "      <td>8557</td>\n",
       "      <td>0.056388</td>\n",
       "      <td>0.001435</td>\n",
       "      <td>0.053898</td>\n",
       "      <td>0.060105</td>\n",
       "      <td>0.025452</td>\n",
       "    </tr>\n",
       "    <tr>\n",
       "      <th>4</th>\n",
       "      <td>13837</td>\n",
       "      <td>0.053040</td>\n",
       "      <td>0.001236</td>\n",
       "      <td>0.050975</td>\n",
       "      <td>0.058335</td>\n",
       "      <td>0.023305</td>\n",
       "    </tr>\n",
       "    <tr>\n",
       "      <th>5</th>\n",
       "      <td>22375</td>\n",
       "      <td>0.048285</td>\n",
       "      <td>0.000903</td>\n",
       "      <td>0.046632</td>\n",
       "      <td>0.050460</td>\n",
       "      <td>0.018711</td>\n",
       "    </tr>\n",
       "    <tr>\n",
       "      <th>6</th>\n",
       "      <td>36181</td>\n",
       "      <td>0.044225</td>\n",
       "      <td>0.000673</td>\n",
       "      <td>0.042604</td>\n",
       "      <td>0.046114</td>\n",
       "      <td>0.015227</td>\n",
       "    </tr>\n",
       "    <tr>\n",
       "      <th>7</th>\n",
       "      <td>58506</td>\n",
       "      <td>0.040692</td>\n",
       "      <td>0.000582</td>\n",
       "      <td>0.039737</td>\n",
       "      <td>0.042488</td>\n",
       "      <td>0.014309</td>\n",
       "    </tr>\n",
       "    <tr>\n",
       "      <th>8</th>\n",
       "      <td>94606</td>\n",
       "      <td>0.037458</td>\n",
       "      <td>0.000491</td>\n",
       "      <td>0.036692</td>\n",
       "      <td>0.039221</td>\n",
       "      <td>0.013098</td>\n",
       "    </tr>\n",
       "    <tr>\n",
       "      <th>9</th>\n",
       "      <td>152979</td>\n",
       "      <td>0.035074</td>\n",
       "      <td>0.000525</td>\n",
       "      <td>0.034105</td>\n",
       "      <td>0.036394</td>\n",
       "      <td>0.014975</td>\n",
       "    </tr>\n",
       "    <tr>\n",
       "      <th>10</th>\n",
       "      <td>247369</td>\n",
       "      <td>0.032902</td>\n",
       "      <td>0.000474</td>\n",
       "      <td>0.032285</td>\n",
       "      <td>0.034945</td>\n",
       "      <td>0.014406</td>\n",
       "    </tr>\n",
       "    <tr>\n",
       "      <th>11</th>\n",
       "      <td>400000</td>\n",
       "      <td>0.031404</td>\n",
       "      <td>0.000351</td>\n",
       "      <td>0.030731</td>\n",
       "      <td>0.032463</td>\n",
       "      <td>0.011181</td>\n",
       "    </tr>\n",
       "  </tbody>\n",
       "</table>\n",
       "</div>"
      ],
      "text/plain": [
       "    tr_size  MAE_median       std       min       max         %\n",
       "0      2024    0.068909  0.001621  0.066100  0.072508  0.023530\n",
       "1      3272    0.065155  0.001868  0.061429  0.068759  0.028666\n",
       "2      5292    0.060490  0.001835  0.057981  0.065394  0.030340\n",
       "3      8557    0.056388  0.001435  0.053898  0.060105  0.025452\n",
       "4     13837    0.053040  0.001236  0.050975  0.058335  0.023305\n",
       "5     22375    0.048285  0.000903  0.046632  0.050460  0.018711\n",
       "6     36181    0.044225  0.000673  0.042604  0.046114  0.015227\n",
       "7     58506    0.040692  0.000582  0.039737  0.042488  0.014309\n",
       "8     94606    0.037458  0.000491  0.036692  0.039221  0.013098\n",
       "9    152979    0.035074  0.000525  0.034105  0.036394  0.014975\n",
       "10   247369    0.032902  0.000474  0.032285  0.034945  0.014406\n",
       "11   400000    0.031404  0.000351  0.030731  0.032463  0.011181"
      ]
     },
     "execution_count": 30,
     "metadata": {},
     "output_type": "execute_result"
    }
   ],
   "source": [
    "aa = nn1\n",
    "aa['std'] = aa['score']\n",
    "aa['min'] = aa['score']\n",
    "aa['max'] = aa['score']\n",
    "aa = aa.groupby(['tr_size']).agg({'score': 'median', 'std': 'std', 'min': 'min', 'max': 'max'}).reset_index()\n",
    "aa = aa.rename(columns={'score': 'MAE_median'})\n",
    "aa['%'] = aa['std']/aa['MAE_median']\n",
    "aa"
   ]
  },
  {
   "cell_type": "code",
   "execution_count": null,
   "metadata": {},
   "outputs": [],
   "source": []
  },
  {
   "cell_type": "code",
   "execution_count": null,
   "metadata": {},
   "outputs": [],
   "source": []
  },
  {
   "cell_type": "code",
   "execution_count": null,
   "metadata": {},
   "outputs": [],
   "source": []
  },
  {
   "cell_type": "code",
   "execution_count": 55,
   "metadata": {},
   "outputs": [
    {
     "data": {
      "image/png": "[encoded data removed]",
      "text/plain": [
       "<Figure size 504x360 with 1 Axes>"
      ]
     },
     "metadata": {
      "needs_background": "light"
     },
     "output_type": "display_data"
    }
   ],
   "source": [
    "xf = dfit['tr_size'].values\n",
    "# xe = dext['tr_size'].values\n",
    "yf = dfit['y'].values\n",
    "# ye = dext['y'].values\n",
    "\n",
    "cc = FitPwrLaw(xf=dfit['tr_size'].values, yf=dfit['y'].values, w=dfit['w'].values)\n",
    "xf_plot, yf_plot = cc.calc_fit( x1=xf[0], x2=xf[-1] )\n",
    "# xe_plot, ye_plot = cc.calc_fit( x1=xe[0], x2=xe[-1] )\n",
    "\n",
    "# Reset axes\n",
    "ax = None\n",
    "\n",
    "# Raw data\n",
    "ax = lc_plots.plot_lc(x=xf, y=yf, ax=ax, **pnts_args, color='b', label='dfit data')\n",
    "# ax = lc_plots.plot_lc(x=xe, y=ye, ax=ax, **pnts_args, color='r', label='dext data')\n",
    "\n",
    "# Fits\n",
    "ax = lc_plots.plot_lc(x=xf_plot, y=yf_plot, ax=ax, **fit_args, color='b', label='dfit fit')\n",
    "# ax = lc_plots.plot_lc(x=xe_plot, y=ye_plot, ax=ax, **fit_args, color='r', label='dext fit')\n",
    "\n",
    "ax.set_title(f'{src} ~ {model}')\n",
    "ax.legend(frameon=True, fontsize=10, loc='best')\n",
    "ax.grid(False)"
   ]
  },
  {
   "cell_type": "code",
   "execution_count": null,
   "metadata": {},
   "outputs": [],
   "source": []
  },
  {
   "cell_type": "markdown",
   "metadata": {},
   "source": [
    "## Plot together"
   ]
  },
  {
   "cell_type": "code",
   "execution_count": null,
   "metadata": {},
   "outputs": [],
   "source": []
  }
 ],
 "metadata": {
  "kernelspec": {
   "display_name": "Python 3",
   "language": "python",
   "name": "python3"
  },
  "language_info": {
   "codemirror_mode": {
    "name": "ipython",
    "version": 3
   },
   "file_extension": ".py",
   "mimetype": "text/x-python",
   "name": "python",
   "nbconvert_exporter": "python",
   "pygments_lexer": "ipython3",
   "version": "3.6.10"
  }
 },
 "nbformat": 4,
 "nbformat_minor": 4
}
